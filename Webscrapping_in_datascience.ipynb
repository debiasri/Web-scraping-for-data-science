{
  "nbformat": 4,
  "nbformat_minor": 0,
  "metadata": {
    "colab": {
      "name": "Webscrapping in datascience.ipynb",
      "provenance": [],
      "include_colab_link": true
    },
    "kernelspec": {
      "display_name": "Python 3",
      "language": "python",
      "name": "python3"
    },
    "language_info": {
      "codemirror_mode": {
        "name": "ipython",
        "version": 3
      },
      "file_extension": ".py",
      "mimetype": "text/x-python",
      "name": "python",
      "nbconvert_exporter": "python",
      "pygments_lexer": "ipython3",
      "version": "3.8.3"
    }
  },
  "cells": [
    {
      "cell_type": "markdown",
      "metadata": {
        "id": "view-in-github",
        "colab_type": "text"
      },
      "source": [
        "<a href=\"https://colab.research.google.com/github/debiasri/Web-scraping-for-data-science/blob/Web-scraping-using-open-data/Webscrapping_in_datascience.ipynb\" target=\"_parent\"><img src=\"https://colab.research.google.com/assets/colab-badge.svg\" alt=\"Open In Colab\"/></a>"
      ]
    },
    {
      "cell_type": "markdown",
      "metadata": {
        "id": "_bZlXav6gh71"
      },
      "source": [
        "# A  basic example of web scrapping with data from https://data.gov.in/major-indicator/covid-19-india-data-source-mohfw"
      ]
    },
    {
      "cell_type": "code",
      "metadata": {
        "id": "PnoMAQBJgd2Z"
      },
      "source": [
        "# Importing required libraries\n",
        "import requests\n",
        "from bs4 import BeautifulSoup as bs # defines the basic interface called by the tree builders"
      ],
      "execution_count": 1,
      "outputs": []
    },
    {
      "cell_type": "code",
      "metadata": {
        "id": "qqXoWsj0mT4T"
      },
      "source": [
        "# Importing other important libraries\n",
        "import pandas as pd\n",
        "import numpy as np\n",
        "import matplotlib.pyplot as plt\n",
        "import seaborn as sns"
      ],
      "execution_count": 2,
      "outputs": []
    },
    {
      "cell_type": "code",
      "metadata": {
        "id": "3KlI4lHwKZhI"
      },
      "source": [
        "# Lets take a webpage with a table containing data on the results of urban clash game with the url: http://www.hubertiming.com/results/2017GPTR10K\n",
        "# Opening the particular url using openurl function\n",
        "from urllib.request import urlopen\n",
        "url='https://dibyendudeb.com/what-is-web-scraping-and-why-it-is-so-important-in-data-science/'\n",
        "html= urlopen(url)\n",
        "soup=bs(html,'lxml')"
      ],
      "execution_count": 4,
      "outputs": []
    },
    {
      "cell_type": "code",
      "metadata": {
        "id": "LLtL4XdWRsRg"
      },
      "source": [
        "# to print all rows in a table\n",
        "records=soup.find_all('tr')\n",
        "# creating list with the text\n",
        "text_list=[]\n",
        "for row in records:\n",
        "  row_store=row.find_all('td')\n",
        "  text_store=str(row_store) # creating a string object from the given object\n",
        "  onlytext=bs(text_store,'lxml').get_text() # using BeautifulSoup method to collect the text as a list using  get_text() function\n",
        "  text_list.append(onlytext)"
      ],
      "execution_count": 5,
      "outputs": []
    },
    {
      "cell_type": "code",
      "metadata": {
        "id": "m_TLzeNIRsvE",
        "outputId": "3ebeea1f-391a-4c2a-f299-d9ad3d0a81b5",
        "colab": {
          "base_uri": "https://localhost:8080/"
        }
      },
      "source": [
        "df=pd.DataFrame(text_list)\n",
        "df.head(10)\n",
        "print(records)"
      ],
      "execution_count": 6,
      "outputs": [
        {
          "output_type": "stream",
          "text": [
            "[<tr><td><strong>Name</strong></td><td><strong>Gender</strong></td><td><strong>Age</strong></td><td><strong>Height</strong></td><td><strong>Weight</strong></td></tr>, <tr><td>Ramesh</td><td>Male</td><td>18</td><td>5.6</td><td>59</td></tr>, <tr><td>Dinesh</td><td>Male</td><td>23</td><td>5.0</td><td>55</td></tr>, <tr><td>Sam</td><td>Male</td><td>22</td><td>5.5</td><td>54</td></tr>, <tr><td>Dipak</td><td>Male</td><td>15</td><td>4.5</td><td>49</td></tr>, <tr><td>Rahul</td><td>Male</td><td>18</td><td>5.9</td><td>60</td></tr>, <tr><td>Rohit</td><td>Male</td><td>20</td><td>6.0</td><td>69</td></tr>, <tr><td>Debesh</td><td>Male</td><td>25</td><td>6.1</td><td>70</td></tr>, <tr><td>Deb</td><td>Male</td><td>21</td><td>5.9</td><td>56</td></tr>, <tr><td>Debarati</td><td>Female</td><td>29</td><td>5.4</td><td>54</td></tr>, <tr><td>Dipankar</td><td>Male</td><td>22</td><td>5.7</td><td>56</td></tr>, <tr><td>Smita</td><td>Female</td><td>25</td><td>5.5</td><td>60</td></tr>, <tr><td>Dilip</td><td>Male</td><td>30</td><td>4.9</td><td>49</td></tr>, <tr><td>Amit</td><td>Male</td><td>14</td><td>4.8</td><td>43</td></tr>, <tr><td>Mukesh</td><td>Male</td><td>26</td><td>5.1</td><td>50</td></tr>, <tr><td>Aasha</td><td>Female</td><td>27</td><td>4.7</td><td>51</td></tr>, <tr><td>Dibakar</td><td>Male</td><td>22</td><td>5.3</td><td>55</td></tr>, <tr><td>Manoj</td><td>Male</td><td>33</td><td>6.2</td><td>75</td></tr>, <tr><td>Vinod</td><td>Male</td><td>27</td><td>5.2</td><td>54</td></tr>, <tr><td>Jyoti</td><td>Female</td><td>22</td><td>5.9</td><td>65</td></tr>]\n"
          ],
          "name": "stdout"
        }
      ]
    },
    {
      "cell_type": "markdown",
      "metadata": {
        "id": "GWTcV9-cyIpK"
      },
      "source": [
        "Splitting the single column into multiple columns according to the comma separated values"
      ]
    },
    {
      "cell_type": "code",
      "metadata": {
        "id": "SMhwhSSxXiNc",
        "outputId": "3f1af263-0058-4499-a908-e79b614adfd7",
        "colab": {
          "base_uri": "https://localhost:8080/",
          "height": 359
        }
      },
      "source": [
        "df1 = df[0].str.split(',', expand=True)\n",
        "df1.head(10)"
      ],
      "execution_count": 7,
      "outputs": [
        {
          "output_type": "execute_result",
          "data": {
            "text/html": [
              "<div>\n",
              "<style scoped>\n",
              "    .dataframe tbody tr th:only-of-type {\n",
              "        vertical-align: middle;\n",
              "    }\n",
              "\n",
              "    .dataframe tbody tr th {\n",
              "        vertical-align: top;\n",
              "    }\n",
              "\n",
              "    .dataframe thead th {\n",
              "        text-align: right;\n",
              "    }\n",
              "</style>\n",
              "<table border=\"1\" class=\"dataframe\">\n",
              "  <thead>\n",
              "    <tr style=\"text-align: right;\">\n",
              "      <th></th>\n",
              "      <th>0</th>\n",
              "      <th>1</th>\n",
              "      <th>2</th>\n",
              "      <th>3</th>\n",
              "      <th>4</th>\n",
              "    </tr>\n",
              "  </thead>\n",
              "  <tbody>\n",
              "    <tr>\n",
              "      <th>0</th>\n",
              "      <td>[Name</td>\n",
              "      <td>Gender</td>\n",
              "      <td>Age</td>\n",
              "      <td>Height</td>\n",
              "      <td>Weight]</td>\n",
              "    </tr>\n",
              "    <tr>\n",
              "      <th>1</th>\n",
              "      <td>[Ramesh</td>\n",
              "      <td>Male</td>\n",
              "      <td>18</td>\n",
              "      <td>5.6</td>\n",
              "      <td>59]</td>\n",
              "    </tr>\n",
              "    <tr>\n",
              "      <th>2</th>\n",
              "      <td>[Dinesh</td>\n",
              "      <td>Male</td>\n",
              "      <td>23</td>\n",
              "      <td>5.0</td>\n",
              "      <td>55]</td>\n",
              "    </tr>\n",
              "    <tr>\n",
              "      <th>3</th>\n",
              "      <td>[Sam</td>\n",
              "      <td>Male</td>\n",
              "      <td>22</td>\n",
              "      <td>5.5</td>\n",
              "      <td>54]</td>\n",
              "    </tr>\n",
              "    <tr>\n",
              "      <th>4</th>\n",
              "      <td>[Dipak</td>\n",
              "      <td>Male</td>\n",
              "      <td>15</td>\n",
              "      <td>4.5</td>\n",
              "      <td>49]</td>\n",
              "    </tr>\n",
              "    <tr>\n",
              "      <th>5</th>\n",
              "      <td>[Rahul</td>\n",
              "      <td>Male</td>\n",
              "      <td>18</td>\n",
              "      <td>5.9</td>\n",
              "      <td>60]</td>\n",
              "    </tr>\n",
              "    <tr>\n",
              "      <th>6</th>\n",
              "      <td>[Rohit</td>\n",
              "      <td>Male</td>\n",
              "      <td>20</td>\n",
              "      <td>6.0</td>\n",
              "      <td>69]</td>\n",
              "    </tr>\n",
              "    <tr>\n",
              "      <th>7</th>\n",
              "      <td>[Debesh</td>\n",
              "      <td>Male</td>\n",
              "      <td>25</td>\n",
              "      <td>6.1</td>\n",
              "      <td>70]</td>\n",
              "    </tr>\n",
              "    <tr>\n",
              "      <th>8</th>\n",
              "      <td>[Deb</td>\n",
              "      <td>Male</td>\n",
              "      <td>21</td>\n",
              "      <td>5.9</td>\n",
              "      <td>56]</td>\n",
              "    </tr>\n",
              "    <tr>\n",
              "      <th>9</th>\n",
              "      <td>[Debarati</td>\n",
              "      <td>Female</td>\n",
              "      <td>29</td>\n",
              "      <td>5.4</td>\n",
              "      <td>54]</td>\n",
              "    </tr>\n",
              "  </tbody>\n",
              "</table>\n",
              "</div>"
            ],
            "text/plain": [
              "           0        1     2        3         4\n",
              "0      [Name   Gender   Age   Height   Weight]\n",
              "1    [Ramesh     Male    18      5.6       59]\n",
              "2    [Dinesh     Male    23      5.0       55]\n",
              "3       [Sam     Male    22      5.5       54]\n",
              "4     [Dipak     Male    15      4.5       49]\n",
              "5     [Rahul     Male    18      5.9       60]\n",
              "6     [Rohit     Male    20      6.0       69]\n",
              "7    [Debesh     Male    25      6.1       70]\n",
              "8       [Deb     Male    21      5.9       56]\n",
              "9  [Debarati   Female    29      5.4       54]"
            ]
          },
          "metadata": {
            "tags": []
          },
          "execution_count": 7
        }
      ]
    },
    {
      "cell_type": "code",
      "metadata": {
        "id": "AEWx0knrrec5",
        "outputId": "bb2a81c6-6c5a-47df-ab32-2906438b5661",
        "colab": {
          "base_uri": "https://localhost:8080/",
          "height": 204
        }
      },
      "source": [
        "# Removing the opening bracket from the column 0\n",
        "df1[0] = df1[0].str.strip('[')\n",
        "# Removing the closing bracket from the column 9\n",
        "df1[4] = df1[4].str.strip(']')\n",
        "df1.head()"
      ],
      "execution_count": 11,
      "outputs": [
        {
          "output_type": "execute_result",
          "data": {
            "text/html": [
              "<div>\n",
              "<style scoped>\n",
              "    .dataframe tbody tr th:only-of-type {\n",
              "        vertical-align: middle;\n",
              "    }\n",
              "\n",
              "    .dataframe tbody tr th {\n",
              "        vertical-align: top;\n",
              "    }\n",
              "\n",
              "    .dataframe thead th {\n",
              "        text-align: right;\n",
              "    }\n",
              "</style>\n",
              "<table border=\"1\" class=\"dataframe\">\n",
              "  <thead>\n",
              "    <tr style=\"text-align: right;\">\n",
              "      <th></th>\n",
              "      <th>0</th>\n",
              "      <th>1</th>\n",
              "      <th>2</th>\n",
              "      <th>3</th>\n",
              "      <th>4</th>\n",
              "    </tr>\n",
              "  </thead>\n",
              "  <tbody>\n",
              "    <tr>\n",
              "      <th>0</th>\n",
              "      <td>Name</td>\n",
              "      <td>Gender</td>\n",
              "      <td>Age</td>\n",
              "      <td>Height</td>\n",
              "      <td>Weight</td>\n",
              "    </tr>\n",
              "    <tr>\n",
              "      <th>1</th>\n",
              "      <td>Ramesh</td>\n",
              "      <td>Male</td>\n",
              "      <td>18</td>\n",
              "      <td>5.6</td>\n",
              "      <td>59</td>\n",
              "    </tr>\n",
              "    <tr>\n",
              "      <th>2</th>\n",
              "      <td>Dinesh</td>\n",
              "      <td>Male</td>\n",
              "      <td>23</td>\n",
              "      <td>5.0</td>\n",
              "      <td>55</td>\n",
              "    </tr>\n",
              "    <tr>\n",
              "      <th>3</th>\n",
              "      <td>Sam</td>\n",
              "      <td>Male</td>\n",
              "      <td>22</td>\n",
              "      <td>5.5</td>\n",
              "      <td>54</td>\n",
              "    </tr>\n",
              "    <tr>\n",
              "      <th>4</th>\n",
              "      <td>Dipak</td>\n",
              "      <td>Male</td>\n",
              "      <td>15</td>\n",
              "      <td>4.5</td>\n",
              "      <td>49</td>\n",
              "    </tr>\n",
              "  </tbody>\n",
              "</table>\n",
              "</div>"
            ],
            "text/plain": [
              "        0        1     2        3        4\n",
              "0    Name   Gender   Age   Height   Weight\n",
              "1  Ramesh     Male    18      5.6       59\n",
              "2  Dinesh     Male    23      5.0       55\n",
              "3     Sam     Male    22      5.5       54\n",
              "4   Dipak     Male    15      4.5       49"
            ]
          },
          "metadata": {
            "tags": []
          },
          "execution_count": 11
        }
      ]
    },
    {
      "cell_type": "markdown",
      "metadata": {
        "id": "LaqjyLb3ZWME"
      },
      "source": [
        "Creating another dataframe to collect the column headers"
      ]
    },
    {
      "cell_type": "code",
      "metadata": {
        "id": "H71ludSwanGg",
        "outputId": "52515f8b-c854-43ce-afaa-70eae75f292a",
        "colab": {
          "base_uri": "https://localhost:8080/"
        }
      },
      "source": [
        "# Storing the table headers in a variable [see in inspect that the headers are in \"strong\" tag]\n",
        "headers = soup.find_all('strong')\n",
        "# Using BeautifulSoup again to arrange the header tags\n",
        "header_list = []# creating a list of the header values\n",
        "col_headers = str(headers)\n",
        "header_only = bs(col_headers, \"lxml\").get_text()\n",
        "header_list.append(header_only)\n",
        "print(header_list)"
      ],
      "execution_count": 12,
      "outputs": [
        {
          "output_type": "stream",
          "text": [
            "['[Name, Gender, Age, Height, Weight]']\n"
          ],
          "name": "stdout"
        }
      ]
    },
    {
      "cell_type": "markdown",
      "metadata": {
        "id": "Wopb91DQD2fs"
      },
      "source": [
        "Converting the list to a pandas data frame"
      ]
    },
    {
      "cell_type": "code",
      "metadata": {
        "id": "24cCMCnJdbbp",
        "outputId": "1694ca7a-bec5-43d0-c362-3444c4d4afa7",
        "colab": {
          "base_uri": "https://localhost:8080/",
          "height": 80
        }
      },
      "source": [
        "df2 = pd.DataFrame(header_list)\n",
        "df2.head()"
      ],
      "execution_count": 13,
      "outputs": [
        {
          "output_type": "execute_result",
          "data": {
            "text/html": [
              "<div>\n",
              "<style scoped>\n",
              "    .dataframe tbody tr th:only-of-type {\n",
              "        vertical-align: middle;\n",
              "    }\n",
              "\n",
              "    .dataframe tbody tr th {\n",
              "        vertical-align: top;\n",
              "    }\n",
              "\n",
              "    .dataframe thead th {\n",
              "        text-align: right;\n",
              "    }\n",
              "</style>\n",
              "<table border=\"1\" class=\"dataframe\">\n",
              "  <thead>\n",
              "    <tr style=\"text-align: right;\">\n",
              "      <th></th>\n",
              "      <th>0</th>\n",
              "    </tr>\n",
              "  </thead>\n",
              "  <tbody>\n",
              "    <tr>\n",
              "      <th>0</th>\n",
              "      <td>[Name, Gender, Age, Height, Weight]</td>\n",
              "    </tr>\n",
              "  </tbody>\n",
              "</table>\n",
              "</div>"
            ],
            "text/plain": [
              "                                     0\n",
              "0  [Name, Gender, Age, Height, Weight]"
            ]
          },
          "metadata": {
            "tags": []
          },
          "execution_count": 13
        }
      ]
    },
    {
      "cell_type": "markdown",
      "metadata": {
        "id": "GRbkkCLseJX5"
      },
      "source": [
        "Now again we have to split the column into several columns to separate the values"
      ]
    },
    {
      "cell_type": "code",
      "metadata": {
        "id": "SnSlsitGeQzB",
        "outputId": "0f1f8c02-9242-42f9-aa02-fee88bcd143d",
        "colab": {
          "base_uri": "https://localhost:8080/",
          "height": 80
        }
      },
      "source": [
        "df3 = df2[0].str.split(',', expand=True)\n",
        "df3.head()"
      ],
      "execution_count": 14,
      "outputs": [
        {
          "output_type": "execute_result",
          "data": {
            "text/html": [
              "<div>\n",
              "<style scoped>\n",
              "    .dataframe tbody tr th:only-of-type {\n",
              "        vertical-align: middle;\n",
              "    }\n",
              "\n",
              "    .dataframe tbody tr th {\n",
              "        vertical-align: top;\n",
              "    }\n",
              "\n",
              "    .dataframe thead th {\n",
              "        text-align: right;\n",
              "    }\n",
              "</style>\n",
              "<table border=\"1\" class=\"dataframe\">\n",
              "  <thead>\n",
              "    <tr style=\"text-align: right;\">\n",
              "      <th></th>\n",
              "      <th>0</th>\n",
              "      <th>1</th>\n",
              "      <th>2</th>\n",
              "      <th>3</th>\n",
              "      <th>4</th>\n",
              "    </tr>\n",
              "  </thead>\n",
              "  <tbody>\n",
              "    <tr>\n",
              "      <th>0</th>\n",
              "      <td>[Name</td>\n",
              "      <td>Gender</td>\n",
              "      <td>Age</td>\n",
              "      <td>Height</td>\n",
              "      <td>Weight]</td>\n",
              "    </tr>\n",
              "  </tbody>\n",
              "</table>\n",
              "</div>"
            ],
            "text/plain": [
              "       0        1     2        3         4\n",
              "0  [Name   Gender   Age   Height   Weight]"
            ]
          },
          "metadata": {
            "tags": []
          },
          "execution_count": 14
        }
      ]
    },
    {
      "cell_type": "markdown",
      "metadata": {
        "id": "7PDU9HXceXU_"
      },
      "source": [
        "Concatenating the two data frames"
      ]
    },
    {
      "cell_type": "code",
      "metadata": {
        "id": "3YafSMhuea6e",
        "scrolled": true,
        "outputId": "978c62b0-63ce-47b8-c9a3-69cb0b1f22d7",
        "colab": {
          "base_uri": "https://localhost:8080/",
          "height": 700
        }
      },
      "source": [
        "concatenate = [df3, df1]\n",
        "\n",
        "df4 = pd.concat(concatenate)\n",
        "df4"
      ],
      "execution_count": 25,
      "outputs": [
        {
          "output_type": "execute_result",
          "data": {
            "text/html": [
              "<div>\n",
              "<style scoped>\n",
              "    .dataframe tbody tr th:only-of-type {\n",
              "        vertical-align: middle;\n",
              "    }\n",
              "\n",
              "    .dataframe tbody tr th {\n",
              "        vertical-align: top;\n",
              "    }\n",
              "\n",
              "    .dataframe thead th {\n",
              "        text-align: right;\n",
              "    }\n",
              "</style>\n",
              "<table border=\"1\" class=\"dataframe\">\n",
              "  <thead>\n",
              "    <tr style=\"text-align: right;\">\n",
              "      <th></th>\n",
              "      <th>0</th>\n",
              "      <th>1</th>\n",
              "      <th>2</th>\n",
              "      <th>3</th>\n",
              "      <th>4</th>\n",
              "    </tr>\n",
              "  </thead>\n",
              "  <tbody>\n",
              "    <tr>\n",
              "      <th>0</th>\n",
              "      <td>[Name</td>\n",
              "      <td>Gender</td>\n",
              "      <td>Age</td>\n",
              "      <td>Height</td>\n",
              "      <td>Weight]</td>\n",
              "    </tr>\n",
              "    <tr>\n",
              "      <th>0</th>\n",
              "      <td>Name</td>\n",
              "      <td>Gender</td>\n",
              "      <td>Age</td>\n",
              "      <td>Height</td>\n",
              "      <td>Weight</td>\n",
              "    </tr>\n",
              "    <tr>\n",
              "      <th>1</th>\n",
              "      <td>Ramesh</td>\n",
              "      <td>Male</td>\n",
              "      <td>18</td>\n",
              "      <td>5.6</td>\n",
              "      <td>59</td>\n",
              "    </tr>\n",
              "    <tr>\n",
              "      <th>2</th>\n",
              "      <td>Dinesh</td>\n",
              "      <td>Male</td>\n",
              "      <td>23</td>\n",
              "      <td>5.0</td>\n",
              "      <td>55</td>\n",
              "    </tr>\n",
              "    <tr>\n",
              "      <th>3</th>\n",
              "      <td>Sam</td>\n",
              "      <td>Male</td>\n",
              "      <td>22</td>\n",
              "      <td>5.5</td>\n",
              "      <td>54</td>\n",
              "    </tr>\n",
              "    <tr>\n",
              "      <th>4</th>\n",
              "      <td>Dipak</td>\n",
              "      <td>Male</td>\n",
              "      <td>15</td>\n",
              "      <td>4.5</td>\n",
              "      <td>49</td>\n",
              "    </tr>\n",
              "    <tr>\n",
              "      <th>5</th>\n",
              "      <td>Rahul</td>\n",
              "      <td>Male</td>\n",
              "      <td>18</td>\n",
              "      <td>5.9</td>\n",
              "      <td>60</td>\n",
              "    </tr>\n",
              "    <tr>\n",
              "      <th>6</th>\n",
              "      <td>Rohit</td>\n",
              "      <td>Male</td>\n",
              "      <td>20</td>\n",
              "      <td>6.0</td>\n",
              "      <td>69</td>\n",
              "    </tr>\n",
              "    <tr>\n",
              "      <th>7</th>\n",
              "      <td>Debesh</td>\n",
              "      <td>Male</td>\n",
              "      <td>25</td>\n",
              "      <td>6.1</td>\n",
              "      <td>70</td>\n",
              "    </tr>\n",
              "    <tr>\n",
              "      <th>8</th>\n",
              "      <td>Deb</td>\n",
              "      <td>Male</td>\n",
              "      <td>21</td>\n",
              "      <td>5.9</td>\n",
              "      <td>56</td>\n",
              "    </tr>\n",
              "    <tr>\n",
              "      <th>9</th>\n",
              "      <td>Debarati</td>\n",
              "      <td>Female</td>\n",
              "      <td>29</td>\n",
              "      <td>5.4</td>\n",
              "      <td>54</td>\n",
              "    </tr>\n",
              "    <tr>\n",
              "      <th>10</th>\n",
              "      <td>Dipankar</td>\n",
              "      <td>Male</td>\n",
              "      <td>22</td>\n",
              "      <td>5.7</td>\n",
              "      <td>56</td>\n",
              "    </tr>\n",
              "    <tr>\n",
              "      <th>11</th>\n",
              "      <td>Smita</td>\n",
              "      <td>Female</td>\n",
              "      <td>25</td>\n",
              "      <td>5.5</td>\n",
              "      <td>60</td>\n",
              "    </tr>\n",
              "    <tr>\n",
              "      <th>12</th>\n",
              "      <td>Dilip</td>\n",
              "      <td>Male</td>\n",
              "      <td>30</td>\n",
              "      <td>4.9</td>\n",
              "      <td>49</td>\n",
              "    </tr>\n",
              "    <tr>\n",
              "      <th>13</th>\n",
              "      <td>Amit</td>\n",
              "      <td>Male</td>\n",
              "      <td>14</td>\n",
              "      <td>4.8</td>\n",
              "      <td>43</td>\n",
              "    </tr>\n",
              "    <tr>\n",
              "      <th>14</th>\n",
              "      <td>Mukesh</td>\n",
              "      <td>Male</td>\n",
              "      <td>26</td>\n",
              "      <td>5.1</td>\n",
              "      <td>50</td>\n",
              "    </tr>\n",
              "    <tr>\n",
              "      <th>15</th>\n",
              "      <td>Aasha</td>\n",
              "      <td>Female</td>\n",
              "      <td>27</td>\n",
              "      <td>4.7</td>\n",
              "      <td>51</td>\n",
              "    </tr>\n",
              "    <tr>\n",
              "      <th>16</th>\n",
              "      <td>Dibakar</td>\n",
              "      <td>Male</td>\n",
              "      <td>22</td>\n",
              "      <td>5.3</td>\n",
              "      <td>55</td>\n",
              "    </tr>\n",
              "    <tr>\n",
              "      <th>17</th>\n",
              "      <td>Manoj</td>\n",
              "      <td>Male</td>\n",
              "      <td>33</td>\n",
              "      <td>6.2</td>\n",
              "      <td>75</td>\n",
              "    </tr>\n",
              "    <tr>\n",
              "      <th>18</th>\n",
              "      <td>Vinod</td>\n",
              "      <td>Male</td>\n",
              "      <td>27</td>\n",
              "      <td>5.2</td>\n",
              "      <td>54</td>\n",
              "    </tr>\n",
              "    <tr>\n",
              "      <th>19</th>\n",
              "      <td>Jyoti</td>\n",
              "      <td>Female</td>\n",
              "      <td>22</td>\n",
              "      <td>5.9</td>\n",
              "      <td>65</td>\n",
              "    </tr>\n",
              "  </tbody>\n",
              "</table>\n",
              "</div>"
            ],
            "text/plain": [
              "           0        1     2        3         4\n",
              "0      [Name   Gender   Age   Height   Weight]\n",
              "0       Name   Gender   Age   Height    Weight\n",
              "1     Ramesh     Male    18      5.6        59\n",
              "2     Dinesh     Male    23      5.0        55\n",
              "3        Sam     Male    22      5.5        54\n",
              "4      Dipak     Male    15      4.5        49\n",
              "5      Rahul     Male    18      5.9        60\n",
              "6      Rohit     Male    20      6.0        69\n",
              "7     Debesh     Male    25      6.1        70\n",
              "8        Deb     Male    21      5.9        56\n",
              "9   Debarati   Female    29      5.4        54\n",
              "10  Dipankar     Male    22      5.7        56\n",
              "11     Smita   Female    25      5.5        60\n",
              "12     Dilip     Male    30      4.9        49\n",
              "13      Amit     Male    14      4.8        43\n",
              "14    Mukesh     Male    26      5.1        50\n",
              "15     Aasha   Female    27      4.7        51\n",
              "16   Dibakar     Male    22      5.3        55\n",
              "17     Manoj     Male    33      6.2        75\n",
              "18     Vinod     Male    27      5.2        54\n",
              "19     Jyoti   Female    22      5.9        65"
            ]
          },
          "metadata": {
            "tags": []
          },
          "execution_count": 25
        }
      ]
    },
    {
      "cell_type": "code",
      "metadata": {
        "id": "37zUEbuCqoHI",
        "outputId": "911f8f8d-7d6b-443d-f706-170fbec50c97",
        "colab": {
          "base_uri": "https://localhost:8080/",
          "height": 359
        }
      },
      "source": [
        "# Assigning the first row as table header\n",
        "df4=df4.rename(columns=df4.iloc[0])\n",
        "df4.head(10)"
      ],
      "execution_count": 16,
      "outputs": [
        {
          "output_type": "execute_result",
          "data": {
            "text/html": [
              "<div>\n",
              "<style scoped>\n",
              "    .dataframe tbody tr th:only-of-type {\n",
              "        vertical-align: middle;\n",
              "    }\n",
              "\n",
              "    .dataframe tbody tr th {\n",
              "        vertical-align: top;\n",
              "    }\n",
              "\n",
              "    .dataframe thead th {\n",
              "        text-align: right;\n",
              "    }\n",
              "</style>\n",
              "<table border=\"1\" class=\"dataframe\">\n",
              "  <thead>\n",
              "    <tr style=\"text-align: right;\">\n",
              "      <th></th>\n",
              "      <th>[Name</th>\n",
              "      <th>Gender</th>\n",
              "      <th>Age</th>\n",
              "      <th>Height</th>\n",
              "      <th>Weight]</th>\n",
              "    </tr>\n",
              "  </thead>\n",
              "  <tbody>\n",
              "    <tr>\n",
              "      <th>0</th>\n",
              "      <td>[Name</td>\n",
              "      <td>Gender</td>\n",
              "      <td>Age</td>\n",
              "      <td>Height</td>\n",
              "      <td>Weight]</td>\n",
              "    </tr>\n",
              "    <tr>\n",
              "      <th>0</th>\n",
              "      <td>Name</td>\n",
              "      <td>Gender</td>\n",
              "      <td>Age</td>\n",
              "      <td>Height</td>\n",
              "      <td>Weight</td>\n",
              "    </tr>\n",
              "    <tr>\n",
              "      <th>1</th>\n",
              "      <td>Ramesh</td>\n",
              "      <td>Male</td>\n",
              "      <td>18</td>\n",
              "      <td>5.6</td>\n",
              "      <td>59</td>\n",
              "    </tr>\n",
              "    <tr>\n",
              "      <th>2</th>\n",
              "      <td>Dinesh</td>\n",
              "      <td>Male</td>\n",
              "      <td>23</td>\n",
              "      <td>5.0</td>\n",
              "      <td>55</td>\n",
              "    </tr>\n",
              "    <tr>\n",
              "      <th>3</th>\n",
              "      <td>Sam</td>\n",
              "      <td>Male</td>\n",
              "      <td>22</td>\n",
              "      <td>5.5</td>\n",
              "      <td>54</td>\n",
              "    </tr>\n",
              "    <tr>\n",
              "      <th>4</th>\n",
              "      <td>Dipak</td>\n",
              "      <td>Male</td>\n",
              "      <td>15</td>\n",
              "      <td>4.5</td>\n",
              "      <td>49</td>\n",
              "    </tr>\n",
              "    <tr>\n",
              "      <th>5</th>\n",
              "      <td>Rahul</td>\n",
              "      <td>Male</td>\n",
              "      <td>18</td>\n",
              "      <td>5.9</td>\n",
              "      <td>60</td>\n",
              "    </tr>\n",
              "    <tr>\n",
              "      <th>6</th>\n",
              "      <td>Rohit</td>\n",
              "      <td>Male</td>\n",
              "      <td>20</td>\n",
              "      <td>6.0</td>\n",
              "      <td>69</td>\n",
              "    </tr>\n",
              "    <tr>\n",
              "      <th>7</th>\n",
              "      <td>Debesh</td>\n",
              "      <td>Male</td>\n",
              "      <td>25</td>\n",
              "      <td>6.1</td>\n",
              "      <td>70</td>\n",
              "    </tr>\n",
              "    <tr>\n",
              "      <th>8</th>\n",
              "      <td>Deb</td>\n",
              "      <td>Male</td>\n",
              "      <td>21</td>\n",
              "      <td>5.9</td>\n",
              "      <td>56</td>\n",
              "    </tr>\n",
              "  </tbody>\n",
              "</table>\n",
              "</div>"
            ],
            "text/plain": [
              "    [Name   Gender   Age   Height   Weight]\n",
              "0   [Name   Gender   Age   Height   Weight]\n",
              "0    Name   Gender   Age   Height    Weight\n",
              "1  Ramesh     Male    18      5.6        59\n",
              "2  Dinesh     Male    23      5.0        55\n",
              "3     Sam     Male    22      5.5        54\n",
              "4   Dipak     Male    15      4.5        49\n",
              "5   Rahul     Male    18      5.9        60\n",
              "6   Rohit     Male    20      6.0        69\n",
              "7  Debesh     Male    25      6.1        70\n",
              "8     Deb     Male    21      5.9        56"
            ]
          },
          "metadata": {
            "tags": []
          },
          "execution_count": 16
        }
      ]
    },
    {
      "cell_type": "code",
      "metadata": {
        "id": "5mjsi9t5UG64",
        "outputId": "422f0fbe-6614-4136-ab8e-58237657349d",
        "colab": {
          "base_uri": "https://localhost:8080/",
          "height": 204
        }
      },
      "source": [
        "# You can see that the table header here has got replicated as the first record in the table, so we need to correct this problem\n",
        "df5 = df4.drop(df4.index[0])\n",
        "df5.head()"
      ],
      "execution_count": 17,
      "outputs": [
        {
          "output_type": "execute_result",
          "data": {
            "text/html": [
              "<div>\n",
              "<style scoped>\n",
              "    .dataframe tbody tr th:only-of-type {\n",
              "        vertical-align: middle;\n",
              "    }\n",
              "\n",
              "    .dataframe tbody tr th {\n",
              "        vertical-align: top;\n",
              "    }\n",
              "\n",
              "    .dataframe thead th {\n",
              "        text-align: right;\n",
              "    }\n",
              "</style>\n",
              "<table border=\"1\" class=\"dataframe\">\n",
              "  <thead>\n",
              "    <tr style=\"text-align: right;\">\n",
              "      <th></th>\n",
              "      <th>[Name</th>\n",
              "      <th>Gender</th>\n",
              "      <th>Age</th>\n",
              "      <th>Height</th>\n",
              "      <th>Weight]</th>\n",
              "    </tr>\n",
              "  </thead>\n",
              "  <tbody>\n",
              "    <tr>\n",
              "      <th>1</th>\n",
              "      <td>Ramesh</td>\n",
              "      <td>Male</td>\n",
              "      <td>18</td>\n",
              "      <td>5.6</td>\n",
              "      <td>59</td>\n",
              "    </tr>\n",
              "    <tr>\n",
              "      <th>2</th>\n",
              "      <td>Dinesh</td>\n",
              "      <td>Male</td>\n",
              "      <td>23</td>\n",
              "      <td>5.0</td>\n",
              "      <td>55</td>\n",
              "    </tr>\n",
              "    <tr>\n",
              "      <th>3</th>\n",
              "      <td>Sam</td>\n",
              "      <td>Male</td>\n",
              "      <td>22</td>\n",
              "      <td>5.5</td>\n",
              "      <td>54</td>\n",
              "    </tr>\n",
              "    <tr>\n",
              "      <th>4</th>\n",
              "      <td>Dipak</td>\n",
              "      <td>Male</td>\n",
              "      <td>15</td>\n",
              "      <td>4.5</td>\n",
              "      <td>49</td>\n",
              "    </tr>\n",
              "    <tr>\n",
              "      <th>5</th>\n",
              "      <td>Rahul</td>\n",
              "      <td>Male</td>\n",
              "      <td>18</td>\n",
              "      <td>5.9</td>\n",
              "      <td>60</td>\n",
              "    </tr>\n",
              "  </tbody>\n",
              "</table>\n",
              "</div>"
            ],
            "text/plain": [
              "    [Name  Gender  Age  Height  Weight]\n",
              "1  Ramesh    Male   18     5.6       59\n",
              "2  Dinesh    Male   23     5.0       55\n",
              "3     Sam    Male   22     5.5       54\n",
              "4   Dipak    Male   15     4.5       49\n",
              "5   Rahul    Male   18     5.9       60"
            ]
          },
          "metadata": {
            "tags": []
          },
          "execution_count": 17
        }
      ]
    },
    {
      "cell_type": "markdown",
      "metadata": {
        "id": "IGZ-a3R6aCdk"
      },
      "source": [
        "Now get some basic idea about the data in hand"
      ]
    },
    {
      "cell_type": "code",
      "metadata": {
        "id": "ZTiuTHaxTLgr",
        "outputId": "701dbd59-26d4-4d1d-e1ef-bccf67e0d853",
        "colab": {
          "base_uri": "https://localhost:8080/"
        }
      },
      "source": [
        "df5.info()\n",
        "df5.shape"
      ],
      "execution_count": 18,
      "outputs": [
        {
          "output_type": "stream",
          "text": [
            "<class 'pandas.core.frame.DataFrame'>\n",
            "Int64Index: 19 entries, 1 to 19\n",
            "Data columns (total 5 columns):\n",
            " #   Column    Non-Null Count  Dtype \n",
            "---  ------    --------------  ----- \n",
            " 0   [Name     19 non-null     object\n",
            " 1    Gender   19 non-null     object\n",
            " 2    Age      19 non-null     object\n",
            " 3    Height   19 non-null     object\n",
            " 4    Weight]  19 non-null     object\n",
            "dtypes: object(5)\n",
            "memory usage: 912.0+ bytes\n"
          ],
          "name": "stdout"
        },
        {
          "output_type": "execute_result",
          "data": {
            "text/plain": [
              "(19, 5)"
            ]
          },
          "metadata": {
            "tags": []
          },
          "execution_count": 18
        }
      ]
    },
    {
      "cell_type": "code",
      "metadata": {
        "id": "-yt3wbxpTPNc",
        "outputId": "56379cea-ae31-497e-c070-47713807ae73",
        "colab": {
          "base_uri": "https://localhost:8080/",
          "height": 204
        }
      },
      "source": [
        "# Eliminating rows with any missing value\n",
        "df5 = df5.dropna(axis=0, how='any')\n",
        "df5.head()"
      ],
      "execution_count": 19,
      "outputs": [
        {
          "output_type": "execute_result",
          "data": {
            "text/html": [
              "<div>\n",
              "<style scoped>\n",
              "    .dataframe tbody tr th:only-of-type {\n",
              "        vertical-align: middle;\n",
              "    }\n",
              "\n",
              "    .dataframe tbody tr th {\n",
              "        vertical-align: top;\n",
              "    }\n",
              "\n",
              "    .dataframe thead th {\n",
              "        text-align: right;\n",
              "    }\n",
              "</style>\n",
              "<table border=\"1\" class=\"dataframe\">\n",
              "  <thead>\n",
              "    <tr style=\"text-align: right;\">\n",
              "      <th></th>\n",
              "      <th>[Name</th>\n",
              "      <th>Gender</th>\n",
              "      <th>Age</th>\n",
              "      <th>Height</th>\n",
              "      <th>Weight]</th>\n",
              "    </tr>\n",
              "  </thead>\n",
              "  <tbody>\n",
              "    <tr>\n",
              "      <th>1</th>\n",
              "      <td>Ramesh</td>\n",
              "      <td>Male</td>\n",
              "      <td>18</td>\n",
              "      <td>5.6</td>\n",
              "      <td>59</td>\n",
              "    </tr>\n",
              "    <tr>\n",
              "      <th>2</th>\n",
              "      <td>Dinesh</td>\n",
              "      <td>Male</td>\n",
              "      <td>23</td>\n",
              "      <td>5.0</td>\n",
              "      <td>55</td>\n",
              "    </tr>\n",
              "    <tr>\n",
              "      <th>3</th>\n",
              "      <td>Sam</td>\n",
              "      <td>Male</td>\n",
              "      <td>22</td>\n",
              "      <td>5.5</td>\n",
              "      <td>54</td>\n",
              "    </tr>\n",
              "    <tr>\n",
              "      <th>4</th>\n",
              "      <td>Dipak</td>\n",
              "      <td>Male</td>\n",
              "      <td>15</td>\n",
              "      <td>4.5</td>\n",
              "      <td>49</td>\n",
              "    </tr>\n",
              "    <tr>\n",
              "      <th>5</th>\n",
              "      <td>Rahul</td>\n",
              "      <td>Male</td>\n",
              "      <td>18</td>\n",
              "      <td>5.9</td>\n",
              "      <td>60</td>\n",
              "    </tr>\n",
              "  </tbody>\n",
              "</table>\n",
              "</div>"
            ],
            "text/plain": [
              "    [Name  Gender  Age  Height  Weight]\n",
              "1  Ramesh    Male   18     5.6       59\n",
              "2  Dinesh    Male   23     5.0       55\n",
              "3     Sam    Male   22     5.5       54\n",
              "4   Dipak    Male   15     4.5       49\n",
              "5   Rahul    Male   18     5.9       60"
            ]
          },
          "metadata": {
            "tags": []
          },
          "execution_count": 19
        }
      ]
    },
    {
      "cell_type": "code",
      "metadata": {
        "id": "uV9OMcH5V0NI",
        "outputId": "6a47b242-e83c-4198-d790-bea1b289df88",
        "colab": {
          "base_uri": "https://localhost:8080/"
        }
      },
      "source": [
        "# Some more data refinement to make the dataset more perfect\n",
        "df5.rename(columns={'[Name': 'Name'},inplace=True)\n",
        "df5.rename(columns={' Weight]': 'Weight'},inplace=True)\n",
        "print(df5.head())"
      ],
      "execution_count": 20,
      "outputs": [
        {
          "output_type": "stream",
          "text": [
            "     Name  Gender  Age  Height Weight\n",
            "1  Ramesh    Male   18     5.6     59\n",
            "2  Dinesh    Male   23     5.0     55\n",
            "3     Sam    Male   22     5.5     54\n",
            "4   Dipak    Male   15     4.5     49\n",
            "5   Rahul    Male   18     5.9     60\n"
          ],
          "name": "stdout"
        }
      ]
    },
    {
      "cell_type": "code",
      "metadata": {
        "id": "rC48i-PvX4xH",
        "outputId": "084c9cb8-31f6-4165-9922-87f119998f91",
        "colab": {
          "base_uri": "https://localhost:8080/",
          "height": 204
        }
      },
      "source": [
        "df5.head()"
      ],
      "execution_count": 22,
      "outputs": [
        {
          "output_type": "execute_result",
          "data": {
            "text/html": [
              "<div>\n",
              "<style scoped>\n",
              "    .dataframe tbody tr th:only-of-type {\n",
              "        vertical-align: middle;\n",
              "    }\n",
              "\n",
              "    .dataframe tbody tr th {\n",
              "        vertical-align: top;\n",
              "    }\n",
              "\n",
              "    .dataframe thead th {\n",
              "        text-align: right;\n",
              "    }\n",
              "</style>\n",
              "<table border=\"1\" class=\"dataframe\">\n",
              "  <thead>\n",
              "    <tr style=\"text-align: right;\">\n",
              "      <th></th>\n",
              "      <th>Name</th>\n",
              "      <th>Gender</th>\n",
              "      <th>Age</th>\n",
              "      <th>Height</th>\n",
              "      <th>Weight</th>\n",
              "    </tr>\n",
              "  </thead>\n",
              "  <tbody>\n",
              "    <tr>\n",
              "      <th>1</th>\n",
              "      <td>Ramesh</td>\n",
              "      <td>Male</td>\n",
              "      <td>18</td>\n",
              "      <td>5.6</td>\n",
              "      <td>59</td>\n",
              "    </tr>\n",
              "    <tr>\n",
              "      <th>2</th>\n",
              "      <td>Dinesh</td>\n",
              "      <td>Male</td>\n",
              "      <td>23</td>\n",
              "      <td>5.0</td>\n",
              "      <td>55</td>\n",
              "    </tr>\n",
              "    <tr>\n",
              "      <th>3</th>\n",
              "      <td>Sam</td>\n",
              "      <td>Male</td>\n",
              "      <td>22</td>\n",
              "      <td>5.5</td>\n",
              "      <td>54</td>\n",
              "    </tr>\n",
              "    <tr>\n",
              "      <th>4</th>\n",
              "      <td>Dipak</td>\n",
              "      <td>Male</td>\n",
              "      <td>15</td>\n",
              "      <td>4.5</td>\n",
              "      <td>49</td>\n",
              "    </tr>\n",
              "    <tr>\n",
              "      <th>5</th>\n",
              "      <td>Rahul</td>\n",
              "      <td>Male</td>\n",
              "      <td>18</td>\n",
              "      <td>5.9</td>\n",
              "      <td>60</td>\n",
              "    </tr>\n",
              "  </tbody>\n",
              "</table>\n",
              "</div>"
            ],
            "text/plain": [
              "     Name  Gender  Age  Height Weight\n",
              "1  Ramesh    Male   18     5.6     59\n",
              "2  Dinesh    Male   23     5.0     55\n",
              "3     Sam    Male   22     5.5     54\n",
              "4   Dipak    Male   15     4.5     49\n",
              "5   Rahul    Male   18     5.9     60"
            ]
          },
          "metadata": {
            "tags": []
          },
          "execution_count": 22
        }
      ]
    },
    {
      "cell_type": "code",
      "metadata": {
        "id": "h7J2PdIGSTpA"
      },
      "source": [
        ""
      ],
      "execution_count": null,
      "outputs": []
    }
  ]
}